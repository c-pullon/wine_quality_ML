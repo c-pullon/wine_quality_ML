{
 "cells": [
  {
   "cell_type": "markdown",
   "id": "011b90ce-9b3d-4821-868a-d725b49d1488",
   "metadata": {},
   "source": [
    "## ML project on predicting wine quality based on characteristics"
   ]
  },
  {
   "cell_type": "markdown",
   "id": "e7e03c56",
   "metadata": {},
   "source": [
    "This project aims to predict wine quality on a scale of 1-10 based on 11 features. The datasets are stored in an AWS S3 bucket and imported locally where they are assigned to Pandas dataframes. The dataframes are merged and data is cleaned before performing EDA.\n",
    "\n",
    "From here AWS SageMaker is utilised to train an XGBoost model using defined training and validation sets. SageMaker also performs hyper-parameter tuning to optimise model performance.\n",
    "\n",
    "An artificial neural network is then constructed and trainined locally. Both ML models are evaluated using the same metrics and their performance compared.\n",
    "\n",
    "The data is sourced from the UCI ML Repository: https://archive.ics.uci.edu/dataset/186/wine+quality"
   ]
  },
  {
   "cell_type": "markdown",
   "id": "7eb6bd62-bd17-4eae-8e11-bc585b750bb1",
   "metadata": {},
   "source": [
    "#### Import datasets from S3 bucket and assign to Pandas DataFrames"
   ]
  },
  {
   "cell_type": "code",
   "execution_count": null,
   "id": "5afcbb4d-27fd-47c7-8952-13cf9818f9a4",
   "metadata": {},
   "outputs": [],
   "source": [
    "import boto3\n",
    "\n",
    "# Specify your S3 bucket name and the keys (paths) to the dataset files\n",
    "bucket_name = 'wine-ml'\n",
    "keys = ['winequality-white.csv', 'winequality-red.csv']  \n",
    "\n",
    "# Create a Boto3 client for S3\n",
    "s3_client = boto3.client('s3')\n",
    "\n",
    "# Download each dataset file from S3\n",
    "for i, key in enumerate(keys):\n",
    "    local_filename = f'local_filename_{i}.csv'  # Generate unique local filename for each dataset\n",
    "    s3_client.download_file(bucket_name, key, local_filename)\n"
   ]
  },
  {
   "cell_type": "code",
   "execution_count": 1,
   "id": "76493d7c-9114-4941-bc20-03605d0fdb60",
   "metadata": {},
   "outputs": [],
   "source": [
    "import pandas as pd\n",
    "\n",
    "# Load the datasets into DataFrame objects\n",
    "white_wine_df = pd.read_csv('local_filename_0.csv')\n",
    "red_wine_df = pd.read_csv('local_filename_1.csv')\n"
   ]
  },
  {
   "cell_type": "markdown",
   "id": "75c367af-6e1f-430a-834e-9dcac4b7b324",
   "metadata": {},
   "source": [
    "#### Split values into individual columns, as all are initially contained in one"
   ]
  },
  {
   "cell_type": "code",
   "execution_count": 2,
   "id": "750ffb87-6931-45f7-a922-5b6d4c1b113f",
   "metadata": {},
   "outputs": [],
   "source": [
    "white_wine_df = white_wine_df['fixed acidity;\"volatile acidity\";\"citric acid\";\"residual sugar\";\"chlorides\";\"free sulfur dioxide\";\"total sulfur dioxide\";\"density\";\"pH\";\"sulphates\";\"alcohol\";\"quality\"'].str.split(';', expand=True)\n",
    "red_wine_df = red_wine_df['fixed acidity;\"volatile acidity\";\"citric acid\";\"residual sugar\";\"chlorides\";\"free sulfur dioxide\";\"total sulfur dioxide\";\"density\";\"pH\";\"sulphates\";\"alcohol\";\"quality\"'].str.split(';', expand=True)"
   ]
  },
  {
   "cell_type": "markdown",
   "id": "a8448b67-2179-41dd-8e2e-f52c8efa422b",
   "metadata": {},
   "source": [
    "#### Assign Column names to columns, as these are initially incorrect"
   ]
  },
  {
   "cell_type": "code",
   "execution_count": 3,
   "id": "6ef997da-1f5a-41a2-8835-7ce7c14ea5d6",
   "metadata": {},
   "outputs": [],
   "source": [
    "# Define the correct column names\n",
    "column_names = ['fixed acidity', 'volatile acidity', 'citric acid', 'residual sugar',\n",
    "                'chlorides', 'free sulfur dioxide', 'total sulfur dioxide', 'density',\n",
    "                'pH', 'sulphates', 'alcohol', 'quality']\n",
    "\n",
    "# Rename the columns in each DataFrame\n",
    "white_wine_df.columns = column_names\n",
    "red_wine_df.columns = column_names"
   ]
  },
  {
   "cell_type": "markdown",
   "id": "b7aa7fa6-4631-4f3b-94f1-7c3fdef3a48d",
   "metadata": {},
   "source": [
    "#### Create 'wine_type' column and concatenate into a single DataFrame"
   ]
  },
  {
   "cell_type": "code",
   "execution_count": 4,
   "id": "35cfb28b-f10f-4085-bf84-1f427f394032",
   "metadata": {},
   "outputs": [],
   "source": [
    "# Add a 'wine_type' column to distinguish between white and red wines\n",
    "white_wine_df['wine_type'] = 'white'\n",
    "red_wine_df['wine_type'] = 'red'\n",
    "\n",
    "# Merge the datasets\n",
    "merged_df = pd.concat([white_wine_df, red_wine_df], ignore_index=True)"
   ]
  },
  {
   "cell_type": "code",
   "execution_count": 5,
   "id": "0819f8de-e4bc-4474-998b-359274954cdb",
   "metadata": {},
   "outputs": [
    {
     "data": {
      "text/plain": [
       "(6497, 13)"
      ]
     },
     "execution_count": 5,
     "metadata": {},
     "output_type": "execute_result"
    }
   ],
   "source": [
    "merged_df.shape"
   ]
  },
  {
   "cell_type": "markdown",
   "id": "285c932e-eb3c-41a9-a607-06a29558eee3",
   "metadata": {},
   "source": [
    "#### Convert all numerical columns to float"
   ]
  },
  {
   "cell_type": "code",
   "execution_count": 6,
   "id": "0bf24559-99ac-480b-8c32-40a7c769355e",
   "metadata": {},
   "outputs": [],
   "source": [
    "# Iterate over each column\n",
    "for column in merged_df.columns:\n",
    "    # Exclude the 'wine_type' column\n",
    "    if column != 'wine_type':\n",
    "        # Convert the values in each column from strings to floats\n",
    "        merged_df[column] = merged_df[column].astype(float)\n"
   ]
  },
  {
   "cell_type": "markdown",
   "id": "23470098-3163-4a7c-91d1-324b99349d52",
   "metadata": {},
   "source": [
    "### Exploratory Data Analysis"
   ]
  },
  {
   "cell_type": "markdown",
   "id": "56de0c5c-33e8-4f07-a3b1-5214667c435e",
   "metadata": {},
   "source": [
    "#### Bar plot showing distribution of quality"
   ]
  },
  {
   "cell_type": "code",
   "execution_count": 7,
   "id": "003b10f8-05a7-4907-853a-07faa7bfbd77",
   "metadata": {},
   "outputs": [
    {
     "data": {
      "image/png": "[encoded data removed]",
      "text/plain": [
       "<Figure size 432x288 with 1 Axes>"
      ]
     },
     "metadata": {
      "needs_background": "light"
     },
     "output_type": "display_data"
    }
   ],
   "source": [
    "import matplotlib.pyplot as plt\n",
    "value_counts = merged_df['quality'].value_counts().sort_index()\n",
    "plt.bar(value_counts.index, value_counts.values, color='skyblue', edgecolor='black')\n",
    "plt.xlabel('Wine Quality')\n",
    "plt.ylabel('Frequency')\n",
    "plt.title('Distribution of Wine Quality')\n",
    "plt.grid(True)\n",
    "plt.show()\n"
   ]
  },
  {
   "cell_type": "markdown",
   "id": "ec7d0a7c-e5be-401b-9cd3-e492ccc83605",
   "metadata": {},
   "source": [
    "#### Correlation heatmap between variables"
   ]
  },
  {
   "cell_type": "code",
   "execution_count": 8,
   "id": "e54a7ab9-293e-4cce-ad0e-cf6ec6c60d17",
   "metadata": {},
   "outputs": [
    {
     "name": "stdout",
     "output_type": "stream",
     "text": [
      "Correlation Matrix:\n",
      "                      fixed acidity  volatile acidity  citric acid  \\\n",
      "fixed acidity              1.000000          0.219008     0.324436   \n",
      "volatile acidity           0.219008          1.000000    -0.377981   \n",
      "citric acid                0.324436         -0.377981     1.000000   \n",
      "residual sugar            -0.111981         -0.196011     0.142451   \n",
      "chlorides                  0.298195          0.377124     0.038998   \n",
      "free sulfur dioxide       -0.282735         -0.352557     0.133126   \n",
      "total sulfur dioxide      -0.329054         -0.414476     0.195242   \n",
      "density                    0.458910          0.271296     0.096154   \n",
      "pH                        -0.252700          0.261454    -0.329808   \n",
      "sulphates                  0.299568          0.225984     0.056197   \n",
      "alcohol                   -0.095452         -0.037640    -0.010493   \n",
      "quality                   -0.076743         -0.265699     0.085532   \n",
      "\n",
      "                      residual sugar  chlorides  free sulfur dioxide  \\\n",
      "fixed acidity              -0.111981   0.298195            -0.282735   \n",
      "volatile acidity           -0.196011   0.377124            -0.352557   \n",
      "citric acid                 0.142451   0.038998             0.133126   \n",
      "residual sugar              1.000000  -0.128940             0.402871   \n",
      "chlorides                  -0.128940   1.000000            -0.195045   \n",
      "free sulfur dioxide         0.402871  -0.195045             1.000000   \n",
      "total sulfur dioxide        0.495482  -0.279630             0.720934   \n",
      "density                     0.552517   0.362615             0.025717   \n",
      "pH                         -0.267320   0.044708            -0.145854   \n",
      "sulphates                  -0.185927   0.395593            -0.188457   \n",
      "alcohol                    -0.359415  -0.256916            -0.179838   \n",
      "quality                    -0.036980  -0.200666             0.055463   \n",
      "\n",
      "                      total sulfur dioxide   density        pH  sulphates  \\\n",
      "fixed acidity                    -0.329054  0.458910 -0.252700   0.299568   \n",
      "volatile acidity                 -0.414476  0.271296  0.261454   0.225984   \n",
      "citric acid                       0.195242  0.096154 -0.329808   0.056197   \n",
      "residual sugar                    0.495482  0.552517 -0.267320  -0.185927   \n",
      "chlorides                        -0.279630  0.362615  0.044708   0.395593   \n",
      "free sulfur dioxide               0.720934  0.025717 -0.145854  -0.188457   \n",
      "total sulfur dioxide              1.000000  0.032395 -0.238413  -0.275727   \n",
      "density                           0.032395  1.000000  0.011686   0.259478   \n",
      "pH                               -0.238413  0.011686  1.000000   0.192123   \n",
      "sulphates                        -0.275727  0.259478  0.192123   1.000000   \n",
      "alcohol                          -0.265740 -0.686745  0.121248  -0.003029   \n",
      "quality                          -0.041385 -0.305858  0.019506   0.038485   \n",
      "\n",
      "                       alcohol   quality  \n",
      "fixed acidity        -0.095452 -0.076743  \n",
      "volatile acidity     -0.037640 -0.265699  \n",
      "citric acid          -0.010493  0.085532  \n",
      "residual sugar       -0.359415 -0.036980  \n",
      "chlorides            -0.256916 -0.200666  \n",
      "free sulfur dioxide  -0.179838  0.055463  \n",
      "total sulfur dioxide -0.265740 -0.041385  \n",
      "density              -0.686745 -0.305858  \n",
      "pH                    0.121248  0.019506  \n",
      "sulphates            -0.003029  0.038485  \n",
      "alcohol               1.000000  0.444319  \n",
      "quality               0.444319  1.000000  \n"
     ]
    }
   ],
   "source": [
    "# Drop non-numeric column'wine_type'\n",
    "numeric_df = merged_df.drop(columns=['wine_type'])\n",
    "\n",
    "# Create a correlation matrix\n",
    "correlation_matrix = numeric_df.corr()\n",
    "\n",
    "# Print or display the correlation matrix\n",
    "print(\"Correlation Matrix:\")\n",
    "print(correlation_matrix)\n"
   ]
  },
  {
   "cell_type": "code",
   "execution_count": 9,
   "id": "9d23b7f0-3ead-40ce-8b6a-9521c05bfbb3",
   "metadata": {},
   "outputs": [
    {
     "data": {
      "image/png": "[encoded data removed]",
      "text/plain": [
       "<Figure size 720x576 with 2 Axes>"
      ]
     },
     "metadata": {
      "needs_background": "light"
     },
     "output_type": "display_data"
    }
   ],
   "source": [
    "import seaborn as sns\n",
    "\n",
    "# Create a heatmap of the correlation matrix\n",
    "plt.figure(figsize=(10, 8))\n",
    "sns.heatmap(correlation_matrix, annot=True, cmap='coolwarm', fmt=\".2f\")\n",
    "plt.title('Correlation Matrix Heatmap')\n",
    "plt.show()\n"
   ]
  },
  {
   "cell_type": "code",
   "execution_count": 10,
   "id": "7b57254c-a513-480c-b833-5bbce3430265",
   "metadata": {},
   "outputs": [
    {
     "name": "stdout",
     "output_type": "stream",
     "text": [
      "Correlations with 'quality' (descending order):\n",
      "quality                 1.000000\n",
      "alcohol                 0.444319\n",
      "citric acid             0.085532\n",
      "free sulfur dioxide     0.055463\n",
      "sulphates               0.038485\n",
      "pH                      0.019506\n",
      "residual sugar         -0.036980\n",
      "total sulfur dioxide   -0.041385\n",
      "fixed acidity          -0.076743\n",
      "chlorides              -0.200666\n",
      "volatile acidity       -0.265699\n",
      "density                -0.305858\n",
      "Name: quality, dtype: float64\n"
     ]
    }
   ],
   "source": [
    "# Sort the correlations with 'quality' in descending order\n",
    "quality_correlations = correlation_matrix['quality'].sort_values(ascending=False)\n",
    "\n",
    "# Print or display the sorted correlations\n",
    "print(\"Correlations with 'quality' (descending order):\")\n",
    "print(quality_correlations)"
   ]
  },
  {
   "cell_type": "markdown",
   "id": "8172b3fa-805b-431e-8d60-a0172f5d4940",
   "metadata": {},
   "source": [
    "#### Outlier detection with boxplots"
   ]
  },
  {
   "cell_type": "code",
   "execution_count": 11,
   "id": "90a045e0-8cae-4a5c-bb73-06fdbea66d62",
   "metadata": {},
   "outputs": [
    {
     "data": {
      "image/png": "[encoded data removed]",
      "text/plain": [
       "<Figure size 1080x720 with 12 Axes>"
      ]
     },
     "metadata": {
      "needs_background": "light"
     },
     "output_type": "display_data"
    }
   ],
   "source": [
    "import math\n",
    "\n",
    "num_cols = 3  \n",
    "num_rows = math.ceil((len(merged_df.columns) - 1) / num_cols)  \n",
    "\n",
    "# Create subplots\n",
    "fig, axes = plt.subplots(num_rows, num_cols, figsize=(15, 10))\n",
    "\n",
    "# Flatten the axes\n",
    "axes = axes.flatten()\n",
    "\n",
    "# Create a boxplot for each variable\n",
    "for i, column in enumerate(merged_df.columns):\n",
    "    if column != 'wine_type':\n",
    "        merged_df.boxplot(column=[column], ax=axes[i])\n",
    "        axes[i].set_title(f'Boxplot of {column}')\n",
    "\n",
    "# Hide any extra subplots\n",
    "for j in range(num_rows * num_cols, len(axes)):\n",
    "    axes[j].axis('off')\n",
    "\n",
    "# Adjust layout\n",
    "plt.tight_layout()\n",
    "plt.show()\n"
   ]
  },
  {
   "cell_type": "markdown",
   "id": "846f78e3",
   "metadata": {},
   "source": [
    "There are a large number of potential outliers, so removing them is not feasible. The analysis will proceed as normal but these may impeed accurate predictions"
   ]
  },
  {
   "cell_type": "code",
   "execution_count": 12,
   "id": "3439342c-6555-4cde-aee4-57d83688485d",
   "metadata": {
    "scrolled": true
   },
   "outputs": [
    {
     "name": "stdout",
     "output_type": "stream",
     "text": [
      "Count of Potential Outliers for Each Variable:\n",
      "fixed acidity           357\n",
      "volatile acidity        377\n",
      "citric acid             509\n",
      "residual sugar          118\n",
      "chlorides               286\n",
      "free sulfur dioxide      62\n",
      "total sulfur dioxide     10\n",
      "density                   3\n",
      "pH                       73\n",
      "sulphates               191\n",
      "alcohol                   3\n",
      "quality                 228\n",
      "dtype: int64\n",
      "\n",
      "Total Count of Potential Outliers: 2217\n"
     ]
    }
   ],
   "source": [
    "import numpy as np\n",
    "\n",
    "# Select numerical columns for outlier detection\n",
    "numerical_columns = merged_df.select_dtypes(include=[np.number]).columns\n",
    "\n",
    "# Calculate the interquartile range (IQR) for each variable\n",
    "Q1 = merged_df[numerical_columns].quantile(0.25)\n",
    "Q3 = merged_df[numerical_columns].quantile(0.75)\n",
    "IQR = Q3 - Q1\n",
    "\n",
    "# Define the upper and lower bounds for outliers\n",
    "lower_bound = Q1 - 1.5 * IQR\n",
    "upper_bound = Q3 + 1.5 * IQR\n",
    "\n",
    "# Identify potential outliers\n",
    "potential_outliers = ((merged_df[numerical_columns] < lower_bound) | (merged_df[numerical_columns] > upper_bound))\n",
    "\n",
    "# Filter the DataFrame to display potential outliers\n",
    "outliers_df = merged_df[potential_outliers.any(axis=1)]\n",
    "\n",
    "# Count potential outliers for each variable\n",
    "outlier_counts = potential_outliers.sum()\n",
    "\n",
    "# Print the count of potential outliers for each variable\n",
    "print(\"Count of Potential Outliers for Each Variable:\")\n",
    "print(outlier_counts)\n",
    "\n",
    "# Calculate and print the total count of potential outliers\n",
    "total_outliers = outlier_counts.sum()\n",
    "print(\"\\nTotal Count of Potential Outliers:\", total_outliers)"
   ]
  },
  {
   "cell_type": "markdown",
   "id": "78d18607-b71b-4cbe-9951-f25ec28a7662",
   "metadata": {},
   "source": [
    "#### Scale the numerical attributes to be between 0 and 1"
   ]
  },
  {
   "cell_type": "markdown",
   "id": "0e9d69a8",
   "metadata": {},
   "source": [
    "Scaling is performed as many ML models are sensitive to scale; different scales can affect the performance and convergence of optimisation algorithms, leading to suboptimal results or slower training times."
   ]
  },
  {
   "cell_type": "code",
   "execution_count": 13,
   "id": "639533aa-2e9d-40bf-ab06-a5e7ed674d50",
   "metadata": {},
   "outputs": [],
   "source": [
    "from sklearn.preprocessing import MinMaxScaler\n",
    "\n",
    "# List of numerical columns excluding the target variable (quality)\n",
    "numerical_columns = merged_df.select_dtypes(include=[np.number]).drop(columns=['quality']).columns\n",
    "\n",
    "# Create a MinMaxScaler object\n",
    "scaler = MinMaxScaler()\n",
    "\n",
    "# Fit the scaler to the data and transform the numerical columns\n",
    "merged_df[numerical_columns] = scaler.fit_transform(merged_df[numerical_columns])"
   ]
  },
  {
   "cell_type": "code",
   "execution_count": 14,
   "id": "11ba4d93-63ee-4a5a-aa66-9ea9491d62cf",
   "metadata": {},
   "outputs": [
    {
     "data": {
      "text/html": [
       "<div>\n",
       "<style scoped>\n",
       "    .dataframe tbody tr th:only-of-type {\n",
       "        vertical-align: middle;\n",
       "    }\n",
       "\n",
       "    .dataframe tbody tr th {\n",
       "        vertical-align: top;\n",
       "    }\n",
       "\n",
       "    .dataframe thead th {\n",
       "        text-align: right;\n",
       "    }\n",
       "</style>\n",
       "<table border=\"1\" class=\"dataframe\">\n",
       "  <thead>\n",
       "    <tr style=\"text-align: right;\">\n",
       "      <th></th>\n",
       "      <th>fixed acidity</th>\n",
       "      <th>volatile acidity</th>\n",
       "      <th>citric acid</th>\n",
       "      <th>residual sugar</th>\n",
       "      <th>chlorides</th>\n",
       "      <th>free sulfur dioxide</th>\n",
       "      <th>total sulfur dioxide</th>\n",
       "      <th>density</th>\n",
       "      <th>pH</th>\n",
       "      <th>sulphates</th>\n",
       "      <th>alcohol</th>\n",
       "      <th>quality</th>\n",
       "      <th>wine_type</th>\n",
       "    </tr>\n",
       "  </thead>\n",
       "  <tbody>\n",
       "    <tr>\n",
       "      <th>0</th>\n",
       "      <td>0.264463</td>\n",
       "      <td>0.126667</td>\n",
       "      <td>0.216867</td>\n",
       "      <td>0.308282</td>\n",
       "      <td>0.059801</td>\n",
       "      <td>0.152778</td>\n",
       "      <td>0.377880</td>\n",
       "      <td>0.267785</td>\n",
       "      <td>0.217054</td>\n",
       "      <td>0.129213</td>\n",
       "      <td>0.115942</td>\n",
       "      <td>6.0</td>\n",
       "      <td>white</td>\n",
       "    </tr>\n",
       "    <tr>\n",
       "      <th>1</th>\n",
       "      <td>0.206612</td>\n",
       "      <td>0.146667</td>\n",
       "      <td>0.204819</td>\n",
       "      <td>0.015337</td>\n",
       "      <td>0.066445</td>\n",
       "      <td>0.045139</td>\n",
       "      <td>0.290323</td>\n",
       "      <td>0.132832</td>\n",
       "      <td>0.449612</td>\n",
       "      <td>0.151685</td>\n",
       "      <td>0.217391</td>\n",
       "      <td>6.0</td>\n",
       "      <td>white</td>\n",
       "    </tr>\n",
       "    <tr>\n",
       "      <th>2</th>\n",
       "      <td>0.355372</td>\n",
       "      <td>0.133333</td>\n",
       "      <td>0.240964</td>\n",
       "      <td>0.096626</td>\n",
       "      <td>0.068106</td>\n",
       "      <td>0.100694</td>\n",
       "      <td>0.209677</td>\n",
       "      <td>0.154039</td>\n",
       "      <td>0.418605</td>\n",
       "      <td>0.123596</td>\n",
       "      <td>0.304348</td>\n",
       "      <td>6.0</td>\n",
       "      <td>white</td>\n",
       "    </tr>\n",
       "    <tr>\n",
       "      <th>3</th>\n",
       "      <td>0.280992</td>\n",
       "      <td>0.100000</td>\n",
       "      <td>0.192771</td>\n",
       "      <td>0.121166</td>\n",
       "      <td>0.081395</td>\n",
       "      <td>0.159722</td>\n",
       "      <td>0.414747</td>\n",
       "      <td>0.163678</td>\n",
       "      <td>0.364341</td>\n",
       "      <td>0.101124</td>\n",
       "      <td>0.275362</td>\n",
       "      <td>6.0</td>\n",
       "      <td>white</td>\n",
       "    </tr>\n",
       "    <tr>\n",
       "      <th>4</th>\n",
       "      <td>0.280992</td>\n",
       "      <td>0.100000</td>\n",
       "      <td>0.192771</td>\n",
       "      <td>0.121166</td>\n",
       "      <td>0.081395</td>\n",
       "      <td>0.159722</td>\n",
       "      <td>0.414747</td>\n",
       "      <td>0.163678</td>\n",
       "      <td>0.364341</td>\n",
       "      <td>0.101124</td>\n",
       "      <td>0.275362</td>\n",
       "      <td>6.0</td>\n",
       "      <td>white</td>\n",
       "    </tr>\n",
       "  </tbody>\n",
       "</table>\n",
       "</div>"
      ],
      "text/plain": [
       "   fixed acidity  volatile acidity  citric acid  residual sugar  chlorides  \\\n",
       "0       0.264463          0.126667     0.216867        0.308282   0.059801   \n",
       "1       0.206612          0.146667     0.204819        0.015337   0.066445   \n",
       "2       0.355372          0.133333     0.240964        0.096626   0.068106   \n",
       "3       0.280992          0.100000     0.192771        0.121166   0.081395   \n",
       "4       0.280992          0.100000     0.192771        0.121166   0.081395   \n",
       "\n",
       "   free sulfur dioxide  total sulfur dioxide   density        pH  sulphates  \\\n",
       "0             0.152778              0.377880  0.267785  0.217054   0.129213   \n",
       "1             0.045139              0.290323  0.132832  0.449612   0.151685   \n",
       "2             0.100694              0.209677  0.154039  0.418605   0.123596   \n",
       "3             0.159722              0.414747  0.163678  0.364341   0.101124   \n",
       "4             0.159722              0.414747  0.163678  0.364341   0.101124   \n",
       "\n",
       "    alcohol  quality wine_type  \n",
       "0  0.115942      6.0     white  \n",
       "1  0.217391      6.0     white  \n",
       "2  0.304348      6.0     white  \n",
       "3  0.275362      6.0     white  \n",
       "4  0.275362      6.0     white  "
      ]
     },
     "execution_count": 14,
     "metadata": {},
     "output_type": "execute_result"
    }
   ],
   "source": [
    "merged_df.head()"
   ]
  },
  {
   "cell_type": "markdown",
   "id": "312df257-f8aa-40a4-9f92-0c7c628696bb",
   "metadata": {},
   "source": [
    "#### One-hot encode 'wine_type' to create boolean columns for white wine and red wine"
   ]
  },
  {
   "cell_type": "code",
   "execution_count": 15,
   "id": "fd788744-1000-4e68-9c98-2d909ad5287e",
   "metadata": {},
   "outputs": [],
   "source": [
    "# ANNs require numerical input features so encoding the 'wine_type' variable is essential\n",
    "\n",
    "encoded_df = pd.get_dummies(data=merged_df, columns=['wine_type'])\n",
    "# Convert only the one-hot encoded columns to integers\n",
    "encoded_df[['wine_type_white', 'wine_type_red']] = encoded_df[['wine_type_white', 'wine_type_red']].astype(int)"
   ]
  },
  {
   "cell_type": "markdown",
   "id": "8338a653-9170-4bf3-b55e-e1540db52aa6",
   "metadata": {},
   "source": [
    "#### Move target variable (quality) to the front and split dataset into training, validation and test sets"
   ]
  },
  {
   "cell_type": "markdown",
   "id": "cf982685",
   "metadata": {},
   "source": [
    "SageMaker assumes the target variable (quality) is the first column, so it is moved"
   ]
  },
  {
   "cell_type": "code",
   "execution_count": 16,
   "id": "db14cf51-bca6-4221-aa54-22e9774dda6b",
   "metadata": {},
   "outputs": [
    {
     "name": "stdout",
     "output_type": "stream",
     "text": [
      "Training data shape: (4547, 14)\n",
      "Validation data shape: (975, 14)\n",
      "Test data shape: (975, 14)\n"
     ]
    }
   ],
   "source": [
    "# Extract the 'quality' column\n",
    "quality_column = encoded_df['quality']\n",
    "\n",
    "# Drop the 'quality' column from the DataFrame\n",
    "encoded_df.drop(columns=['quality'], inplace=True)\n",
    "\n",
    "# Add the 'quality' column back at the front\n",
    "encoded_df.insert(0, 'quality', quality_column)\n",
    "\n",
    "from sklearn.model_selection import train_test_split\n",
    "\n",
    "# Split data into training and the rest\n",
    "train_data, temp_data = train_test_split(encoded_df, test_size=0.3, random_state=42)\n",
    "\n",
    "# Split the rest into validation and test sets\n",
    "validation_data, test_data = train_test_split(temp_data, test_size=0.5, random_state=42)\n",
    "\n",
    "# Print the shapes of the resulting datasets\n",
    "print(\"Training data shape:\", train_data.shape)\n",
    "print(\"Validation data shape:\", validation_data.shape)\n",
    "print(\"Test data shape:\", test_data.shape)"
   ]
  },
  {
   "cell_type": "code",
   "execution_count": 17,
   "id": "ae3732cd-868c-4807-b173-a7e3a72c9ab5",
   "metadata": {},
   "outputs": [
    {
     "data": {
      "text/html": [
       "<div>\n",
       "<style scoped>\n",
       "    .dataframe tbody tr th:only-of-type {\n",
       "        vertical-align: middle;\n",
       "    }\n",
       "\n",
       "    .dataframe tbody tr th {\n",
       "        vertical-align: top;\n",
       "    }\n",
       "\n",
       "    .dataframe thead th {\n",
       "        text-align: right;\n",
       "    }\n",
       "</style>\n",
       "<table border=\"1\" class=\"dataframe\">\n",
       "  <thead>\n",
       "    <tr style=\"text-align: right;\">\n",
       "      <th></th>\n",
       "      <th>quality</th>\n",
       "      <th>fixed acidity</th>\n",
       "      <th>volatile acidity</th>\n",
       "      <th>citric acid</th>\n",
       "      <th>residual sugar</th>\n",
       "      <th>chlorides</th>\n",
       "      <th>free sulfur dioxide</th>\n",
       "      <th>total sulfur dioxide</th>\n",
       "      <th>density</th>\n",
       "      <th>pH</th>\n",
       "      <th>sulphates</th>\n",
       "      <th>alcohol</th>\n",
       "      <th>wine_type_red</th>\n",
       "      <th>wine_type_white</th>\n",
       "    </tr>\n",
       "  </thead>\n",
       "  <tbody>\n",
       "    <tr>\n",
       "      <th>0</th>\n",
       "      <td>6.0</td>\n",
       "      <td>0.264463</td>\n",
       "      <td>0.126667</td>\n",
       "      <td>0.216867</td>\n",
       "      <td>0.308282</td>\n",
       "      <td>0.059801</td>\n",
       "      <td>0.152778</td>\n",
       "      <td>0.377880</td>\n",
       "      <td>0.267785</td>\n",
       "      <td>0.217054</td>\n",
       "      <td>0.129213</td>\n",
       "      <td>0.115942</td>\n",
       "      <td>0</td>\n",
       "      <td>1</td>\n",
       "    </tr>\n",
       "    <tr>\n",
       "      <th>1</th>\n",
       "      <td>6.0</td>\n",
       "      <td>0.206612</td>\n",
       "      <td>0.146667</td>\n",
       "      <td>0.204819</td>\n",
       "      <td>0.015337</td>\n",
       "      <td>0.066445</td>\n",
       "      <td>0.045139</td>\n",
       "      <td>0.290323</td>\n",
       "      <td>0.132832</td>\n",
       "      <td>0.449612</td>\n",
       "      <td>0.151685</td>\n",
       "      <td>0.217391</td>\n",
       "      <td>0</td>\n",
       "      <td>1</td>\n",
       "    </tr>\n",
       "    <tr>\n",
       "      <th>2</th>\n",
       "      <td>6.0</td>\n",
       "      <td>0.355372</td>\n",
       "      <td>0.133333</td>\n",
       "      <td>0.240964</td>\n",
       "      <td>0.096626</td>\n",
       "      <td>0.068106</td>\n",
       "      <td>0.100694</td>\n",
       "      <td>0.209677</td>\n",
       "      <td>0.154039</td>\n",
       "      <td>0.418605</td>\n",
       "      <td>0.123596</td>\n",
       "      <td>0.304348</td>\n",
       "      <td>0</td>\n",
       "      <td>1</td>\n",
       "    </tr>\n",
       "    <tr>\n",
       "      <th>3</th>\n",
       "      <td>6.0</td>\n",
       "      <td>0.280992</td>\n",
       "      <td>0.100000</td>\n",
       "      <td>0.192771</td>\n",
       "      <td>0.121166</td>\n",
       "      <td>0.081395</td>\n",
       "      <td>0.159722</td>\n",
       "      <td>0.414747</td>\n",
       "      <td>0.163678</td>\n",
       "      <td>0.364341</td>\n",
       "      <td>0.101124</td>\n",
       "      <td>0.275362</td>\n",
       "      <td>0</td>\n",
       "      <td>1</td>\n",
       "    </tr>\n",
       "    <tr>\n",
       "      <th>4</th>\n",
       "      <td>6.0</td>\n",
       "      <td>0.280992</td>\n",
       "      <td>0.100000</td>\n",
       "      <td>0.192771</td>\n",
       "      <td>0.121166</td>\n",
       "      <td>0.081395</td>\n",
       "      <td>0.159722</td>\n",
       "      <td>0.414747</td>\n",
       "      <td>0.163678</td>\n",
       "      <td>0.364341</td>\n",
       "      <td>0.101124</td>\n",
       "      <td>0.275362</td>\n",
       "      <td>0</td>\n",
       "      <td>1</td>\n",
       "    </tr>\n",
       "  </tbody>\n",
       "</table>\n",
       "</div>"
      ],
      "text/plain": [
       "   quality  fixed acidity  volatile acidity  citric acid  residual sugar  \\\n",
       "0      6.0       0.264463          0.126667     0.216867        0.308282   \n",
       "1      6.0       0.206612          0.146667     0.204819        0.015337   \n",
       "2      6.0       0.355372          0.133333     0.240964        0.096626   \n",
       "3      6.0       0.280992          0.100000     0.192771        0.121166   \n",
       "4      6.0       0.280992          0.100000     0.192771        0.121166   \n",
       "\n",
       "   chlorides  free sulfur dioxide  total sulfur dioxide   density        pH  \\\n",
       "0   0.059801             0.152778              0.377880  0.267785  0.217054   \n",
       "1   0.066445             0.045139              0.290323  0.132832  0.449612   \n",
       "2   0.068106             0.100694              0.209677  0.154039  0.418605   \n",
       "3   0.081395             0.159722              0.414747  0.163678  0.364341   \n",
       "4   0.081395             0.159722              0.414747  0.163678  0.364341   \n",
       "\n",
       "   sulphates   alcohol  wine_type_red  wine_type_white  \n",
       "0   0.129213  0.115942              0                1  \n",
       "1   0.151685  0.217391              0                1  \n",
       "2   0.123596  0.304348              0                1  \n",
       "3   0.101124  0.275362              0                1  \n",
       "4   0.101124  0.275362              0                1  "
      ]
     },
     "execution_count": 17,
     "metadata": {},
     "output_type": "execute_result"
    }
   ],
   "source": [
    "encoded_df.head()"
   ]
  },
  {
   "cell_type": "markdown",
   "id": "d792088a-e4a0-4a49-a3b1-f0d40104b13e",
   "metadata": {},
   "source": [
    "#### Convert datasets to CSV format and upload to S3 bucket"
   ]
  },
  {
   "cell_type": "code",
   "execution_count": null,
   "id": "b1808b8d-0099-4add-a40e-699710f36797",
   "metadata": {},
   "outputs": [],
   "source": [
    "import io\n",
    "\n",
    "# Convert the dataframes to CSV format in memory\n",
    "train_data_buffer = io.StringIO()\n",
    "train_data.to_csv(train_data_buffer, index=False)\n",
    "train_data_buffer.seek(0)\n",
    "\n",
    "validation_data_buffer = io.StringIO()\n",
    "validation_data.to_csv(validation_data_buffer, index=False)\n",
    "validation_data_buffer.seek(0)\n",
    "\n",
    "test_data_buffer = io.StringIO()\n",
    "test_data.to_csv(test_data_buffer, index=False)\n",
    "test_data_buffer.seek(0)\n",
    "\n",
    "# Upload the CSV data to S3\n",
    "s3_client.put_object(Body=train_data_buffer.getvalue(), Bucket=bucket_name, Key='train_data.csv')\n",
    "s3_client.put_object(Body=validation_data_buffer.getvalue(), Bucket=bucket_name, Key='validation_data.csv')\n",
    "s3_client.put_object(Body=test_data_buffer.getvalue(), Bucket=bucket_name, Key='test_data.csv')"
   ]
  },
  {
   "cell_type": "markdown",
   "id": "f3e232ee",
   "metadata": {},
   "source": [
    "## Machine Learning Model Construction, Training, and Evaluation"
   ]
  },
  {
   "cell_type": "markdown",
   "id": "c9bf7e7b-c153-4dad-97f8-a4cc075b2134",
   "metadata": {},
   "source": [
    "#### Set up SageMaker XGBoost training job"
   ]
  },
  {
   "cell_type": "code",
   "execution_count": null,
   "id": "ed49880c-c619-443b-9671-d352fd1db6fd",
   "metadata": {},
   "outputs": [],
   "source": [
    "import sagemaker\n",
    "from sagemaker.inputs import TrainingInput\n",
    "from sagemaker import get_execution_role\n",
    "from sagemaker.tuner import HyperparameterTuner, IntegerParameter, ContinuousParameter\n",
    "\n",
    "# Define your SageMaker execution role\n",
    "role = get_execution_role()\n",
    "\n",
    "# Specify the S3 bucket and prefix where you saved the training, validation, and test data\n",
    "bucket_name = 'wine-ml'\n",
    "\n",
    "# Define the paths to the training, validation, and test data in S3\n",
    "train_data_path = f's3://{bucket_name}/train_data.csv'\n",
    "validation_data_path = f's3://{bucket_name}/validation_data.csv'\n",
    "test_data_path = f's3://{bucket_name}/test_data.csv'\n",
    "\n",
    "# Define the SageMaker XGBoost estimator\n",
    "xgb_estimator = sagemaker.estimator.Estimator(\n",
    "    image_uri=sagemaker.image_uris.retrieve(\"xgboost\", region=sagemaker.Session().boto_region_name, version='1.2-1'),\n",
    "    role=role,\n",
    "    instance_count=1,\n",
    "    instance_type='ml.m5.xlarge',\n",
    "    output_path=f's3://{bucket_name}/optimised_xgboost_output',\n",
    "    deploy_mode=False  # Disable automatic model deployment\n",
    ")\n",
    "\n",
    "# Define the hyperparameter ranges for tuning\n",
    "hyperparameter_ranges = {\n",
    "    'max_depth': IntegerParameter(4, 7),\n",
    "    'eta': ContinuousParameter(0.1, 0.4),\n",
    "    'gamma': ContinuousParameter(0.0, 0.3),\n",
    "    'min_child_weight': IntegerParameter(1, 5),\n",
    "    'subsample': ContinuousParameter(0.5, 1),\n",
    "    'alpha': ContinuousParameter(0, 0.1),\n",
    "    'lambda': ContinuousParameter(0, 0.1),\n",
    "    'num_round': IntegerParameter(100,101)\n",
    "}\n",
    "\n",
    "# Define the objective metric to optimize\n",
    "objective_metric_name = 'validation:rmse'\n",
    "\n",
    "# Define the hyperparameter tuner\n",
    "tuner = HyperparameterTuner(\n",
    "    estimator=xgb_estimator,\n",
    "    objective_metric_name=objective_metric_name,\n",
    "    objective_type='Minimize',  \n",
    "    hyperparameter_ranges=hyperparameter_ranges,\n",
    "    max_jobs=28,  # Maximum number of tuning jobs\n",
    "    max_parallel_jobs=4  # Number of tuning jobs that run in parallel\n",
    ")\n",
    "\n",
    "\n",
    "# Define the input channels for training\n",
    "train_input = TrainingInput(train_data_path, content_type='text/csv')\n",
    "validation_input = TrainingInput(validation_data_path, content_type='text/csv')\n",
    "\n",
    "# Launch the hyperparameter tuning job\n",
    "tuner.fit({'train': train_input, 'validation': validation_input})\n",
    "\n",
    "# Stop the hyperparameter tuning job\n",
    "tuner.stop_tuning_job()"
   ]
  },
  {
   "cell_type": "markdown",
   "id": "41244741-1ded-422b-bafd-da8af769e7b6",
   "metadata": {},
   "source": [
    "#### Access the training job with the lowest validation RMSE and extract the associated hyper-parameter set"
   ]
  },
  {
   "cell_type": "code",
   "execution_count": null,
   "id": "584d088c-5da6-477b-9100-d9d25a6f0d34",
   "metadata": {},
   "outputs": [],
   "source": [
    "# Get the name of the best training job\n",
    "best_training_job_name = tuner.best_training_job()\n",
    "\n",
    "# Describe the best training job to obtain the hyperparameters\n",
    "best_training_job_info = sagemaker.Session().describe_training_job(job_name=best_training_job_name)\n",
    "best_hyperparameters = best_training_job_info['HyperParameters']\n",
    "\n",
    "# Print the best hyperparameters\n",
    "print(\"Best Hyperparameters:\")\n",
    "print(best_hyperparameters)"
   ]
  },
  {
   "cell_type": "markdown",
   "id": "efa9aae3-7e6f-4fc9-9dd3-ca63df50289b",
   "metadata": {},
   "source": [
    "#### Train final model with optimal hyper-parameters"
   ]
  },
  {
   "cell_type": "code",
   "execution_count": null,
   "id": "0e79149b-f927-4af0-81b5-4248b58ce099",
   "metadata": {},
   "outputs": [],
   "source": [
    "# Set the best hyperparameters in the XGBoost estimator\n",
    "xgb_estimator.set_hyperparameters(**best_hyperparameters)\n",
    "\n",
    "# Train a model using the best hyperparameters and save it as 'xgboost_optimal'\n",
    "xgb_estimator.fit({'train': train_input, 'validation': validation_input}, job_name='xgboost-optimal')"
   ]
  },
  {
   "cell_type": "markdown",
   "id": "bffc014f-3917-4e12-8bc3-51f7070356a4",
   "metadata": {},
   "source": [
    "#### Use trained model on test set"
   ]
  },
  {
   "cell_type": "markdown",
   "id": "4157fe1b",
   "metadata": {},
   "source": [
    "The trained model is retrieved from the S3 bucket and placed into the same folder as the notebook file"
   ]
  },
  {
   "cell_type": "code",
   "execution_count": 18,
   "id": "6a3ddaf6-1c68-4b1b-bfef-8f9ab3791dd2",
   "metadata": {},
   "outputs": [
    {
     "name": "stderr",
     "output_type": "stream",
     "text": [
      "C:\\Users\\Charl\\anaconda3\\lib\\site-packages\\xgboost\\core.py:160: UserWarning: [11:34:06] WARNING: C:\\buildkite-agent\\builds\\buildkite-windows-cpu-autoscaling-group-i-07f6e447eee219473-1\\xgboost\\xgboost-ci-windows\\src\\common/error_msg.h:80: If you are loading a serialized model (like pickle in Python, RDS in R) or\n",
      "configuration generated by an older version of XGBoost, please export the model by calling\n",
      "`Booster.save_model` from that version first, then load it back in current version. See:\n",
      "\n",
      "    https://xgboost.readthedocs.io/en/stable/tutorials/saving_model.html\n",
      "\n",
      "for more details about differences between saving model and serializing.\n",
      "\n",
      "  warnings.warn(smsg, UserWarning)\n"
     ]
    }
   ],
   "source": [
    "import pickle\n",
    "import xgboost as xgb\n",
    "\n",
    "# Load the model from the local file\n",
    "with open('xgboost-model', 'rb') as file:\n",
    "    xgboost_model = pickle.load(file)\n",
    "\n",
    "# Extract features and labels from the test dataset\n",
    "X_test_xgb = test_data.drop(columns=['quality'])\n",
    "y_test_xgb = test_data['quality']\n",
    "\n",
    "# Convert the test data DataFrame to a DMatrix object\n",
    "dtest_xgb = xgb.DMatrix(X_test_xgb)\n",
    "\n",
    "# Make predictions on the test set using XGBoost\n",
    "predictions_xgboost = xgboost_model.predict(dtest_xgb)\n",
    "predictions_xgboost_rounded = np.round(predictions_xgboost)"
   ]
  },
  {
   "cell_type": "markdown",
   "id": "d50f818f-da99-4aec-b945-c2fc0c856214",
   "metadata": {},
   "source": [
    "#### Evaluation metrics"
   ]
  },
  {
   "cell_type": "code",
   "execution_count": 19,
   "id": "d95dcd7d-682f-4c82-8f3c-a6250149606f",
   "metadata": {},
   "outputs": [
    {
     "name": "stdout",
     "output_type": "stream",
     "text": [
      "{'MSE (XGBoost)': 0.47794871794871796, 'MAE (XGBoost)': 0.4246153846153846, 'RMSE (XGBoost)': 0.6913383527251457, 'R2 (XGBoost)': 0.35939372576665496}\n"
     ]
    }
   ],
   "source": [
    "from sklearn.metrics import mean_squared_error, mean_absolute_error, r2_score\n",
    "import numpy as np\n",
    "\n",
    "\n",
    "# Calculate evaluation metrics for XGBoost\n",
    "xgboost_metrics = {\n",
    "    'MSE (XGBoost)': mean_squared_error(y_test_xgb, predictions_xgboost_rounded),\n",
    "    'MAE (XGBoost)': mean_absolute_error(y_test_xgb, predictions_xgboost_rounded),\n",
    "    'RMSE (XGBoost)': np.sqrt(mean_squared_error(y_test_xgb, predictions_xgboost_rounded)),\n",
    "    'R2 (XGBoost)': r2_score(y_test_xgb, predictions_xgboost_rounded)\n",
    "}\n",
    "\n",
    "print(xgboost_metrics)"
   ]
  },
  {
   "cell_type": "code",
   "execution_count": 20,
   "id": "39df8145",
   "metadata": {},
   "outputs": [
    {
     "data": {
      "text/html": [
       "<div>\n",
       "<style scoped>\n",
       "    .dataframe tbody tr th:only-of-type {\n",
       "        vertical-align: middle;\n",
       "    }\n",
       "\n",
       "    .dataframe tbody tr th {\n",
       "        vertical-align: top;\n",
       "    }\n",
       "\n",
       "    .dataframe thead th {\n",
       "        text-align: right;\n",
       "    }\n",
       "</style>\n",
       "<table border=\"1\" class=\"dataframe\">\n",
       "  <thead>\n",
       "    <tr style=\"text-align: right;\">\n",
       "      <th></th>\n",
       "      <th>Actual</th>\n",
       "      <th>Predicted</th>\n",
       "    </tr>\n",
       "  </thead>\n",
       "  <tbody>\n",
       "    <tr>\n",
       "      <th>4221</th>\n",
       "      <td>6.0</td>\n",
       "      <td>7.0</td>\n",
       "    </tr>\n",
       "    <tr>\n",
       "      <th>4500</th>\n",
       "      <td>6.0</td>\n",
       "      <td>6.0</td>\n",
       "    </tr>\n",
       "    <tr>\n",
       "      <th>5589</th>\n",
       "      <td>5.0</td>\n",
       "      <td>5.0</td>\n",
       "    </tr>\n",
       "    <tr>\n",
       "      <th>2629</th>\n",
       "      <td>5.0</td>\n",
       "      <td>5.0</td>\n",
       "    </tr>\n",
       "    <tr>\n",
       "      <th>3410</th>\n",
       "      <td>7.0</td>\n",
       "      <td>6.0</td>\n",
       "    </tr>\n",
       "  </tbody>\n",
       "</table>\n",
       "</div>"
      ],
      "text/plain": [
       "      Actual  Predicted\n",
       "4221     6.0        7.0\n",
       "4500     6.0        6.0\n",
       "5589     5.0        5.0\n",
       "2629     5.0        5.0\n",
       "3410     7.0        6.0"
      ]
     },
     "execution_count": 20,
     "metadata": {},
     "output_type": "execute_result"
    }
   ],
   "source": [
    "# Create a DataFrame with actual and predicted values\n",
    "xgboost_results_df = pd.DataFrame({'Actual': y_test_xgb, 'Predicted': predictions_xgboost_rounded})\n",
    "xgboost_results_df.head()"
   ]
  },
  {
   "cell_type": "markdown",
   "id": "c2078b6e-e203-4443-ab31-0eca17c443e8",
   "metadata": {},
   "source": [
    "#### Scatter plot of actual vs predicted values for quality"
   ]
  },
  {
   "cell_type": "code",
   "execution_count": 21,
   "id": "cddfb802-dd96-480c-9a7d-7450d80e3330",
   "metadata": {},
   "outputs": [
    {
     "data": {
      "image/png": "[encoded data removed]",
      "text/plain": [
       "<Figure size 720x432 with 1 Axes>"
      ]
     },
     "metadata": {
      "needs_background": "light"
     },
     "output_type": "display_data"
    }
   ],
   "source": [
    "# Plot predicted vs actual quality for XGBoost\n",
    "plt.figure(figsize=(10, 6))\n",
    "plt.scatter(y_test_xgb, predictions_xgboost_rounded, color='blue', alpha=0.5)\n",
    "plt.xlabel('Actual Quality (XGBoost)')\n",
    "plt.ylabel('Predicted Quality (XGBoost)')\n",
    "plt.title('Actual vs Predicted Quality (XGBoost)')\n",
    "plt.show()"
   ]
  },
  {
   "cell_type": "markdown",
   "id": "f30d52c2",
   "metadata": {},
   "source": [
    "These results are suboptimal; R2 of 0.36 means that the XGBoost model explains only 36% of the variance in quality, indicating that the model's predictive power is limited and there is room for improvement. A feed-forward ANN will be constructed and the results will be compared."
   ]
  },
  {
   "cell_type": "markdown",
   "id": "343e2e3a",
   "metadata": {},
   "source": [
    "#### FF-ANN construction"
   ]
  },
  {
   "cell_type": "markdown",
   "id": "b5155657",
   "metadata": {},
   "source": [
    "The data is already prepared so a ANN can be easily constructed. A simple structure will be used first, and from there it can be adjusted depending on the results. Weak L2 regularisation is applied to prevent over-fitting, as well as 10% dropout."
   ]
  },
  {
   "cell_type": "code",
   "execution_count": 22,
   "id": "4188f381",
   "metadata": {},
   "outputs": [
    {
     "name": "stdout",
     "output_type": "stream",
     "text": [
      "Model: \"sequential\"\n",
      "_________________________________________________________________\n",
      " Layer (type)                Output Shape              Param #   \n",
      "=================================================================\n",
      " dense (Dense)               (None, 13)                182       \n",
      "                                                                 \n",
      " dropout (Dropout)           (None, 13)                0         \n",
      "                                                                 \n",
      " dense_1 (Dense)             (None, 16)                224       \n",
      "                                                                 \n",
      " dropout_1 (Dropout)         (None, 16)                0         \n",
      "                                                                 \n",
      " dense_2 (Dense)             (None, 8)                 136       \n",
      "                                                                 \n",
      " dropout_2 (Dropout)         (None, 8)                 0         \n",
      "                                                                 \n",
      " dense_3 (Dense)             (None, 1)                 9         \n",
      "                                                                 \n",
      "=================================================================\n",
      "Total params: 551\n",
      "Trainable params: 551\n",
      "Non-trainable params: 0\n",
      "_________________________________________________________________\n"
     ]
    }
   ],
   "source": [
    "import tensorflow as tf\n",
    "from tensorflow.keras.models import Sequential\n",
    "from tensorflow.keras.layers import Dense, Dropout\n",
    "from tensorflow.keras.regularizers import l2\n",
    "\n",
    "\n",
    "y_train_ff_ann = train_data['quality']\n",
    "X_train_ff_ann = train_data.drop(columns=['quality'])\n",
    "\n",
    "y_test_ff_ann = test_data['quality']\n",
    "X_test_ff_ann = test_data.drop(columns=['quality'])\n",
    "\n",
    "input_shape_ff_ann = X_train_ff_ann.shape[1]\n",
    "\n",
    "model_ff_ann = Sequential()\n",
    "model_ff_ann.add(Dense(units=input_shape_ff_ann, activation='relu', input_shape=(input_shape_ff_ann,)))\n",
    "model_ff_ann.add(Dropout(0.1))\n",
    "model_ff_ann.add(Dense(16, activation='relu', kernel_regularizer=l2(0.01)))\n",
    "model_ff_ann.add(Dropout(0.1))\n",
    "model_ff_ann.add(Dense(8, activation='relu', kernel_regularizer=l2(0.01)))\n",
    "model_ff_ann.add(Dropout(0.1))\n",
    "model_ff_ann.add(Dense(units=1, activation='linear'))\n",
    "\n",
    "model_ff_ann.compile(optimizer='adam', loss='mean_squared_error', metrics=['mae'])  # Mean squared error loss for regression\n",
    "model_ff_ann.summary()"
   ]
  },
  {
   "cell_type": "markdown",
   "id": "bf5bfe4e",
   "metadata": {},
   "source": [
    "#### FF-ANN training"
   ]
  },
  {
   "cell_type": "code",
   "execution_count": 23,
   "id": "61ee4fb0",
   "metadata": {
    "scrolled": true
   },
   "outputs": [
    {
     "name": "stdout",
     "output_type": "stream",
     "text": [
      "Epoch 1/100\n",
      "2274/2274 [==============================] - 5s 2ms/step - loss: 5.1266 - mae: 1.5486\n",
      "Epoch 2/100\n",
      "2274/2274 [==============================] - 3s 1ms/step - loss: 1.7046 - mae: 0.9925\n",
      "Epoch 3/100\n",
      "2274/2274 [==============================] - 4s 2ms/step - loss: 1.3808 - mae: 0.8941\n",
      "Epoch 4/100\n",
      "2274/2274 [==============================] - 3s 1ms/step - loss: 1.2488 - mae: 0.8465\n",
      "Epoch 5/100\n",
      "2274/2274 [==============================] - 3s 1ms/step - loss: 1.0821 - mae: 0.7939\n",
      "Epoch 6/100\n",
      "2274/2274 [==============================] - 3s 1ms/step - loss: 1.0083 - mae: 0.7610\n",
      "Epoch 7/100\n",
      "2274/2274 [==============================] - 3s 2ms/step - loss: 0.9080 - mae: 0.7237\n",
      "Epoch 8/100\n",
      "2274/2274 [==============================] - 4s 2ms/step - loss: 0.8668 - mae: 0.7119\n",
      "Epoch 9/100\n",
      "2274/2274 [==============================] - 3s 1ms/step - loss: 0.8056 - mae: 0.6870\n",
      "Epoch 10/100\n",
      "2274/2274 [==============================] - 3s 1ms/step - loss: 0.7658 - mae: 0.6639\n",
      "Epoch 11/100\n",
      "2274/2274 [==============================] - 3s 1ms/step - loss: 0.7144 - mae: 0.6475\n",
      "Epoch 12/100\n",
      "2274/2274 [==============================] - 3s 1ms/step - loss: 0.7457 - mae: 0.6642\n",
      "Epoch 13/100\n",
      "2274/2274 [==============================] - 3s 1ms/step - loss: 0.7166 - mae: 0.6477\n",
      "Epoch 14/100\n",
      "2274/2274 [==============================] - 3s 1ms/step - loss: 0.6882 - mae: 0.6394\n",
      "Epoch 15/100\n",
      "2274/2274 [==============================] - 3s 1ms/step - loss: 0.6663 - mae: 0.6292\n",
      "Epoch 16/100\n",
      "2274/2274 [==============================] - 3s 1ms/step - loss: 0.6552 - mae: 0.6253\n",
      "Epoch 17/100\n",
      "2274/2274 [==============================] - 3s 1ms/step - loss: 0.6482 - mae: 0.6224\n",
      "Epoch 18/100\n",
      "2274/2274 [==============================] - 3s 1ms/step - loss: 0.6445 - mae: 0.6191\n",
      "Epoch 19/100\n",
      "2274/2274 [==============================] - 3s 1ms/step - loss: 0.6342 - mae: 0.6157\n",
      "Epoch 20/100\n",
      "2274/2274 [==============================] - 3s 1ms/step - loss: 0.6340 - mae: 0.6159\n",
      "Epoch 21/100\n",
      "2274/2274 [==============================] - 3s 1ms/step - loss: 0.6225 - mae: 0.6078\n",
      "Epoch 22/100\n",
      "2274/2274 [==============================] - 4s 2ms/step - loss: 0.6142 - mae: 0.6087\n",
      "Epoch 23/100\n",
      "2274/2274 [==============================] - 4s 2ms/step - loss: 0.6103 - mae: 0.6040\n",
      "Epoch 24/100\n",
      "2274/2274 [==============================] - 4s 2ms/step - loss: 0.6082 - mae: 0.6049\n",
      "Epoch 25/100\n",
      "2274/2274 [==============================] - 4s 2ms/step - loss: 0.6094 - mae: 0.6040\n",
      "Epoch 26/100\n",
      "2274/2274 [==============================] - 4s 2ms/step - loss: 0.6077 - mae: 0.6063\n",
      "Epoch 27/100\n",
      "2274/2274 [==============================] - 4s 2ms/step - loss: 0.6073 - mae: 0.6046\n",
      "Epoch 28/100\n",
      "2274/2274 [==============================] - 3s 1ms/step - loss: 0.6034 - mae: 0.6053\n",
      "Epoch 29/100\n",
      "2274/2274 [==============================] - 3s 1ms/step - loss: 0.6041 - mae: 0.6041\n",
      "Epoch 30/100\n",
      "2274/2274 [==============================] - 4s 2ms/step - loss: 0.6057 - mae: 0.6068\n",
      "Epoch 31/100\n",
      "2274/2274 [==============================] - 4s 2ms/step - loss: 0.6017 - mae: 0.6052\n",
      "Epoch 32/100\n",
      "2274/2274 [==============================] - 4s 2ms/step - loss: 0.5981 - mae: 0.6027\n",
      "Epoch 33/100\n",
      "2274/2274 [==============================] - 3s 2ms/step - loss: 0.5971 - mae: 0.6029\n",
      "Epoch 34/100\n",
      "2274/2274 [==============================] - 3s 1ms/step - loss: 0.5958 - mae: 0.5992\n",
      "Epoch 35/100\n",
      "2274/2274 [==============================] - 3s 1ms/step - loss: 0.6010 - mae: 0.6048\n",
      "Epoch 36/100\n",
      "2274/2274 [==============================] - 3s 1ms/step - loss: 0.5943 - mae: 0.6021\n",
      "Epoch 37/100\n",
      "2274/2274 [==============================] - 3s 1ms/step - loss: 0.5956 - mae: 0.6019\n",
      "Epoch 38/100\n",
      "2274/2274 [==============================] - 3s 1ms/step - loss: 0.5998 - mae: 0.6029\n",
      "Epoch 39/100\n",
      "2274/2274 [==============================] - 3s 1ms/step - loss: 0.6098 - mae: 0.6090\n",
      "Epoch 40/100\n",
      "2274/2274 [==============================] - 3s 1ms/step - loss: 0.5920 - mae: 0.6015\n",
      "Epoch 41/100\n",
      "2274/2274 [==============================] - 3s 1ms/step - loss: 0.6027 - mae: 0.6052\n",
      "Epoch 42/100\n",
      "2274/2274 [==============================] - 4s 2ms/step - loss: 0.5982 - mae: 0.6035\n",
      "Epoch 43/100\n",
      "2274/2274 [==============================] - 3s 2ms/step - loss: 0.5949 - mae: 0.6053\n",
      "Epoch 44/100\n",
      "2274/2274 [==============================] - 3s 2ms/step - loss: 0.5885 - mae: 0.6005\n",
      "Epoch 45/100\n",
      "2274/2274 [==============================] - 4s 2ms/step - loss: 0.5895 - mae: 0.5981\n",
      "Epoch 46/100\n",
      "2274/2274 [==============================] - 3s 1ms/step - loss: 0.5983 - mae: 0.6044\n",
      "Epoch 47/100\n",
      "2274/2274 [==============================] - 3s 1ms/step - loss: 0.5936 - mae: 0.5992\n",
      "Epoch 48/100\n",
      "2274/2274 [==============================] - 3s 1ms/step - loss: 0.5932 - mae: 0.6012\n",
      "Epoch 49/100\n",
      "2274/2274 [==============================] - 3s 1ms/step - loss: 0.6003 - mae: 0.6060\n",
      "Epoch 50/100\n",
      "2274/2274 [==============================] - 4s 2ms/step - loss: 0.5981 - mae: 0.6038\n",
      "Epoch 51/100\n",
      "2274/2274 [==============================] - 3s 1ms/step - loss: 0.5992 - mae: 0.6069\n",
      "Epoch 52/100\n",
      "2274/2274 [==============================] - 3s 1ms/step - loss: 0.5946 - mae: 0.6020\n",
      "Epoch 53/100\n",
      "2274/2274 [==============================] - 3s 2ms/step - loss: 0.6031 - mae: 0.6055\n",
      "Epoch 54/100\n",
      "2274/2274 [==============================] - 3s 1ms/step - loss: 0.5866 - mae: 0.5994\n",
      "Epoch 55/100\n",
      "2274/2274 [==============================] - 3s 1ms/step - loss: 0.6005 - mae: 0.6085\n",
      "Epoch 56/100\n",
      "2274/2274 [==============================] - 3s 2ms/step - loss: 0.5860 - mae: 0.5990\n",
      "Epoch 57/100\n",
      "2274/2274 [==============================] - 3s 1ms/step - loss: 0.5975 - mae: 0.6025\n",
      "Epoch 58/100\n",
      "2274/2274 [==============================] - 3s 1ms/step - loss: 0.5925 - mae: 0.6005\n",
      "Epoch 59/100\n",
      "2274/2274 [==============================] - 3s 1ms/step - loss: 0.5931 - mae: 0.6032\n",
      "Epoch 60/100\n",
      "2274/2274 [==============================] - 3s 1ms/step - loss: 0.5888 - mae: 0.6000\n",
      "Epoch 61/100\n",
      "2274/2274 [==============================] - 4s 2ms/step - loss: 0.5958 - mae: 0.6017\n",
      "Epoch 62/100\n",
      "2274/2274 [==============================] - 4s 2ms/step - loss: 0.5875 - mae: 0.5994\n",
      "Epoch 63/100\n",
      "2274/2274 [==============================] - 3s 1ms/step - loss: 0.5939 - mae: 0.6017\n",
      "Epoch 64/100\n",
      "2274/2274 [==============================] - 3s 1ms/step - loss: 0.5928 - mae: 0.5999\n",
      "Epoch 65/100\n",
      "2274/2274 [==============================] - 3s 2ms/step - loss: 0.5890 - mae: 0.5998\n",
      "Epoch 66/100\n",
      "2274/2274 [==============================] - 3s 1ms/step - loss: 0.5940 - mae: 0.6027\n",
      "Epoch 67/100\n",
      "2274/2274 [==============================] - 3s 2ms/step - loss: 0.5899 - mae: 0.6007\n",
      "Epoch 68/100\n",
      "2274/2274 [==============================] - 4s 2ms/step - loss: 0.5870 - mae: 0.6000\n",
      "Epoch 69/100\n",
      "2274/2274 [==============================] - 4s 2ms/step - loss: 0.5942 - mae: 0.6028\n",
      "Epoch 70/100\n",
      "2274/2274 [==============================] - 5s 2ms/step - loss: 0.5950 - mae: 0.6025\n",
      "Epoch 71/100\n",
      "2274/2274 [==============================] - 6s 3ms/step - loss: 0.5978 - mae: 0.6036\n",
      "Epoch 72/100\n",
      "2274/2274 [==============================] - 4s 2ms/step - loss: 0.5963 - mae: 0.6037\n",
      "Epoch 73/100\n",
      "2274/2274 [==============================] - 3s 1ms/step - loss: 0.5948 - mae: 0.6005\n",
      "Epoch 74/100\n",
      "2274/2274 [==============================] - 3s 1ms/step - loss: 0.6000 - mae: 0.6060\n",
      "Epoch 75/100\n",
      "2274/2274 [==============================] - 4s 2ms/step - loss: 0.5891 - mae: 0.6020\n",
      "Epoch 76/100\n",
      "2274/2274 [==============================] - 3s 1ms/step - loss: 0.5866 - mae: 0.5974\n",
      "Epoch 77/100\n",
      "2274/2274 [==============================] - 4s 2ms/step - loss: 0.5879 - mae: 0.6000\n",
      "Epoch 78/100\n",
      "2274/2274 [==============================] - 4s 2ms/step - loss: 0.5935 - mae: 0.6011\n",
      "Epoch 79/100\n",
      "2274/2274 [==============================] - 5s 2ms/step - loss: 0.5931 - mae: 0.6014\n",
      "Epoch 80/100\n",
      "2274/2274 [==============================] - 4s 2ms/step - loss: 0.5881 - mae: 0.6002\n",
      "Epoch 81/100\n",
      "2274/2274 [==============================] - 4s 2ms/step - loss: 0.5900 - mae: 0.6029\n",
      "Epoch 82/100\n",
      "2274/2274 [==============================] - 5s 2ms/step - loss: 0.5962 - mae: 0.6025\n",
      "Epoch 83/100\n"
     ]
    },
    {
     "name": "stdout",
     "output_type": "stream",
     "text": [
      "2274/2274 [==============================] - 4s 2ms/step - loss: 0.5936 - mae: 0.6008\n",
      "Epoch 84/100\n",
      "2274/2274 [==============================] - 3s 1ms/step - loss: 0.5948 - mae: 0.6042\n",
      "Epoch 85/100\n",
      "2274/2274 [==============================] - 3s 1ms/step - loss: 0.5902 - mae: 0.5993\n",
      "Epoch 86/100\n",
      "2274/2274 [==============================] - 4s 2ms/step - loss: 0.5843 - mae: 0.5975\n",
      "Epoch 87/100\n",
      "2274/2274 [==============================] - 4s 2ms/step - loss: 0.5898 - mae: 0.6013\n",
      "Epoch 88/100\n",
      "2274/2274 [==============================] - 4s 2ms/step - loss: 0.5920 - mae: 0.6021\n",
      "Epoch 89/100\n",
      "2274/2274 [==============================] - 4s 2ms/step - loss: 0.5937 - mae: 0.6021\n",
      "Epoch 90/100\n",
      "2274/2274 [==============================] - 4s 2ms/step - loss: 0.5904 - mae: 0.6015\n",
      "Epoch 91/100\n",
      "2274/2274 [==============================] - 3s 1ms/step - loss: 0.5946 - mae: 0.6042\n",
      "Epoch 92/100\n",
      "2274/2274 [==============================] - 3s 1ms/step - loss: 0.5847 - mae: 0.5996\n",
      "Epoch 93/100\n",
      "2274/2274 [==============================] - 4s 2ms/step - loss: 0.5949 - mae: 0.6033\n",
      "Epoch 94/100\n",
      "2274/2274 [==============================] - 4s 2ms/step - loss: 0.5898 - mae: 0.6002\n",
      "Epoch 95/100\n",
      "2274/2274 [==============================] - 7s 3ms/step - loss: 0.5906 - mae: 0.6010\n",
      "Epoch 96/100\n",
      "2274/2274 [==============================] - 4s 2ms/step - loss: 0.5900 - mae: 0.6006\n",
      "Epoch 97/100\n",
      "2274/2274 [==============================] - 4s 2ms/step - loss: 0.5924 - mae: 0.6020\n",
      "Epoch 98/100\n",
      "2274/2274 [==============================] - 4s 2ms/step - loss: 0.5915 - mae: 0.6008\n",
      "Epoch 99/100\n",
      "2274/2274 [==============================] - 4s 2ms/step - loss: 0.5846 - mae: 0.5981\n",
      "Epoch 100/100\n",
      "2274/2274 [==============================] - 8s 4ms/step - loss: 0.5899 - mae: 0.6005\n"
     ]
    }
   ],
   "source": [
    "# Train the model using all data\n",
    "history_ff_ann = model_ff_ann.fit(X_train_ff_ann, y_train_ff_ann, epochs=100, batch_size=2, verbose=1)"
   ]
  },
  {
   "cell_type": "code",
   "execution_count": 24,
   "id": "35750e9f",
   "metadata": {},
   "outputs": [
    {
     "name": "stdout",
     "output_type": "stream",
     "text": [
      "31/31 [==============================] - 0s 2ms/step - loss: 0.5230 - mae: 0.5768\n",
      "31/31 [==============================] - 0s 1ms/step\n"
     ]
    }
   ],
   "source": [
    "# Evaluate FF-ANN model and calculate metrics\n",
    "loss_ff_ann, mae_ff_ann = model_ff_ann.evaluate(X_test_ff_ann, y_test_ff_ann)\n",
    "predictions_ff_ann = model_ff_ann.predict(X_test_ff_ann)\n",
    "predictions_ff_ann_rounded = np.round(predictions_ff_ann)\n",
    "rmse_ff_ann = np.sqrt(mean_squared_error(y_test_ff_ann, predictions_ff_ann_rounded))\n",
    "r2_ff_ann = r2_score(y_test_ff_ann, predictions_ff_ann_rounded)"
   ]
  },
  {
   "cell_type": "markdown",
   "id": "b104bbf1",
   "metadata": {},
   "source": [
    "#### Loss over epochs"
   ]
  },
  {
   "cell_type": "markdown",
   "id": "d6b402b4",
   "metadata": {},
   "source": [
    "Here we see how loss (MSE) falls during training as the model converges to a solution"
   ]
  },
  {
   "cell_type": "code",
   "execution_count": 25,
   "id": "8b8885b2",
   "metadata": {},
   "outputs": [
    {
     "data": {
      "image/png": "[encoded data removed]",
      "text/plain": [
       "<Figure size 432x288 with 1 Axes>"
      ]
     },
     "metadata": {
      "needs_background": "light"
     },
     "output_type": "display_data"
    }
   ],
   "source": [
    "# Get the MSE values from the FF-ANN training history\n",
    "train_loss_ff_ann = history_ff_ann.history['loss']\n",
    "\n",
    "# Plot the FF-ANN MSE during training\n",
    "plt.plot(train_loss_ff_ann)\n",
    "plt.title('FF-ANN Training MSE')\n",
    "plt.xlabel('Epoch')\n",
    "plt.ylabel('MSE')\n",
    "plt.show()"
   ]
  },
  {
   "cell_type": "markdown",
   "id": "835efb40",
   "metadata": {},
   "source": [
    "#### FF-ANN performance metrics"
   ]
  },
  {
   "cell_type": "code",
   "execution_count": 26,
   "id": "fcc0c21e",
   "metadata": {},
   "outputs": [
    {
     "name": "stdout",
     "output_type": "stream",
     "text": [
      "MSE (FF-ANN) =  0.522965133190155\n",
      "MAE (FF-ANN) =  0.5768019556999207\n",
      "RMSE (FF-ANN) =  0.7686151382644183\n",
      "R2 (FF-ANN) =  0.20817765244977093\n"
     ]
    }
   ],
   "source": [
    "# Print evaluation metrics for FF-ANN\n",
    "print('MSE (FF-ANN) = ', loss_ff_ann)\n",
    "print('MAE (FF-ANN) = ', mae_ff_ann)\n",
    "print('RMSE (FF-ANN) = ', rmse_ff_ann)\n",
    "print('R2 (FF-ANN) = ', r2_ff_ann)"
   ]
  },
  {
   "cell_type": "code",
   "execution_count": 27,
   "id": "ff429a61",
   "metadata": {},
   "outputs": [
    {
     "data": {
      "image/png": "[encoded data removed]",
      "text/plain": [
       "<Figure size 432x288 with 1 Axes>"
      ]
     },
     "metadata": {
      "needs_background": "light"
     },
     "output_type": "display_data"
    }
   ],
   "source": [
    "# Plot actual vs predicted for FF-ANN\n",
    "plt.scatter(y_test_ff_ann, predictions_ff_ann_rounded)\n",
    "plt.xlabel('Actual Quality (FF-ANN)')\n",
    "plt.ylabel('Predicted Quality (FF-ANN)')\n",
    "plt.title('Actual vs Predicted Quality (FF-ANN)')\n",
    "plt.show()"
   ]
  },
  {
   "cell_type": "code",
   "execution_count": 28,
   "id": "18d140c8",
   "metadata": {},
   "outputs": [
    {
     "data": {
      "text/html": [
       "<div>\n",
       "<style scoped>\n",
       "    .dataframe tbody tr th:only-of-type {\n",
       "        vertical-align: middle;\n",
       "    }\n",
       "\n",
       "    .dataframe tbody tr th {\n",
       "        vertical-align: top;\n",
       "    }\n",
       "\n",
       "    .dataframe thead th {\n",
       "        text-align: right;\n",
       "    }\n",
       "</style>\n",
       "<table border=\"1\" class=\"dataframe\">\n",
       "  <thead>\n",
       "    <tr style=\"text-align: right;\">\n",
       "      <th></th>\n",
       "      <th>Actual</th>\n",
       "      <th>Predicted</th>\n",
       "    </tr>\n",
       "  </thead>\n",
       "  <tbody>\n",
       "    <tr>\n",
       "      <th>970</th>\n",
       "      <td>6.0</td>\n",
       "      <td>5.0</td>\n",
       "    </tr>\n",
       "    <tr>\n",
       "      <th>971</th>\n",
       "      <td>5.0</td>\n",
       "      <td>6.0</td>\n",
       "    </tr>\n",
       "    <tr>\n",
       "      <th>972</th>\n",
       "      <td>5.0</td>\n",
       "      <td>6.0</td>\n",
       "    </tr>\n",
       "    <tr>\n",
       "      <th>973</th>\n",
       "      <td>6.0</td>\n",
       "      <td>6.0</td>\n",
       "    </tr>\n",
       "    <tr>\n",
       "      <th>974</th>\n",
       "      <td>7.0</td>\n",
       "      <td>6.0</td>\n",
       "    </tr>\n",
       "  </tbody>\n",
       "</table>\n",
       "</div>"
      ],
      "text/plain": [
       "     Actual  Predicted\n",
       "970     6.0        5.0\n",
       "971     5.0        6.0\n",
       "972     5.0        6.0\n",
       "973     6.0        6.0\n",
       "974     7.0        6.0"
      ]
     },
     "execution_count": 28,
     "metadata": {},
     "output_type": "execute_result"
    }
   ],
   "source": [
    "# Create a DataFrame with actual and predicted values for FF-ANN\n",
    "results_df_ff_ann = pd.DataFrame({'Actual': y_test_ff_ann.values.flatten(), 'Predicted': predictions_ff_ann_rounded.flatten()})\n",
    "\n",
    "# Display the DataFrame for FF-ANN\n",
    "results_df_ff_ann.tail()"
   ]
  },
  {
   "cell_type": "code",
   "execution_count": 29,
   "id": "e3a00c90",
   "metadata": {},
   "outputs": [
    {
     "name": "stdout",
     "output_type": "stream",
     "text": [
      "  Metric   XGBoost    FF-ANN\n",
      "0    MSE  0.477949  0.522965\n",
      "1    MAE  0.424615  0.576802\n",
      "2   RMSE  0.691338  0.768615\n",
      "3     R2  0.359394  0.208178\n"
     ]
    }
   ],
   "source": [
    "# Create a DataFrame to store evaluation metrics for both models\n",
    "evaluation_metrics = pd.DataFrame({\n",
    "    'Metric': ['MSE', 'MAE', 'RMSE', 'R2'],\n",
    "    'XGBoost': [xgboost_metrics['MSE (XGBoost)'], xgboost_metrics['MAE (XGBoost)'],\n",
    "                xgboost_metrics['RMSE (XGBoost)'], xgboost_metrics['R2 (XGBoost)']],\n",
    "    'FF-ANN': [loss_ff_ann, mae_ff_ann, rmse_ff_ann, r2_ff_ann]\n",
    "})\n",
    "\n",
    "# Display the DataFrame\n",
    "print(evaluation_metrics)"
   ]
  },
  {
   "cell_type": "markdown",
   "id": "b2a1757a",
   "metadata": {},
   "source": [
    "With the chosen hyper-parameters and structures of both ML models, XGBoost slightly outperforms the FF-ANN, while also being much quicker to train.\n",
    "\n",
    "Results are suboptimal for both models, suggesting they could not capture the complex relationships between wine characteristics and quality. Exploratory data analysis identified many potential outliers which were not removed due to the large proportion of them relative to the whole dataset, which may have hindered accurate prediction. \n",
    "\n",
    "Furthermore, while SageMaker searched for optimal hyper-parameters for XGBoost, it did not test every possible combination of every hyper-parameter due to resource constraints. Similarly, hyper-parameters for the FF-ANN were manually adjusted to increase performance but both models probably were not using optimal hyper-parameters."
   ]
  }
 ],
 "metadata": {
  "kernelspec": {
   "display_name": "Python 3 (ipykernel)",
   "language": "python",
   "name": "python3"
  },
  "language_info": {
   "codemirror_mode": {
    "name": "ipython",
    "version": 3
   },
   "file_extension": ".py",
   "mimetype": "text/x-python",
   "name": "python",
   "nbconvert_exporter": "python",
   "pygments_lexer": "ipython3",
   "version": "3.9.12"
  }
 },
 "nbformat": 4,
 "nbformat_minor": 5
}
